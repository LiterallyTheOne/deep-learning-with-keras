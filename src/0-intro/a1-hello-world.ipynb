{
 "cells": [
  {
   "metadata": {},
   "cell_type": "markdown",
   "source": "# <div style=\"text-align: center; color: cyan\">Keras Hello World</div>",
   "id": "ec6081be9259b22e"
  },
  {
   "metadata": {},
   "cell_type": "markdown",
   "source": "## <div style=\"text-align: center; color: lime\">Setup</div>",
   "id": "c60d50d16fe7ca18"
  },
  {
   "metadata": {
    "ExecuteTime": {
     "end_time": "2025-10-18T06:24:20.047938Z",
     "start_time": "2025-10-18T06:24:20.044495Z"
    }
   },
   "cell_type": "code",
   "source": [
    "import os\n",
    "os.environ[\"KERAS_BACKEND\"] = \"torch\""
   ],
   "id": "7a0b8fd5d1f95223",
   "outputs": [],
   "execution_count": 1
  },
  {
   "metadata": {},
   "cell_type": "markdown",
   "source": "## <div style=\"text-align: center; color: lime\">Imports</div>",
   "id": "7b3bc70a07f386dd"
  },
  {
   "cell_type": "code",
   "id": "initial_id",
   "metadata": {
    "ExecuteTime": {
     "end_time": "2025-10-18T06:24:23.555501Z",
     "start_time": "2025-10-18T06:24:22.125072Z"
    }
   },
   "source": [
    "from keras.datasets import mnist\n",
    "import keras\n",
    "from keras import layers"
   ],
   "outputs": [],
   "execution_count": 2
  },
  {
   "metadata": {},
   "cell_type": "markdown",
   "source": "## <div style=\"text-align: center; color: lime\">Prepare the Data</div>",
   "id": "66eecc9c6e21df63"
  },
  {
   "metadata": {
    "ExecuteTime": {
     "end_time": "2025-10-18T06:24:38.814380Z",
     "start_time": "2025-10-18T06:24:38.599901Z"
    }
   },
   "cell_type": "code",
   "source": [
    "(train_images, train_labels), (test_images, test_labels) = mnist.load_data()\n",
    "\n",
    "train_images = train_images.reshape((60000, 28 * 28))\n",
    "train_images = train_images.astype(\"float32\") / 255\n",
    "test_images = test_images.reshape((10000, 28 * 28))\n",
    "test_images = test_images.astype(\"float32\") / 255"
   ],
   "id": "aaae9f282b3fe51f",
   "outputs": [],
   "execution_count": 3
  },
  {
   "metadata": {},
   "cell_type": "markdown",
   "source": "## <div style=\"text-align: center; color: lime\">Define the model</div>",
   "id": "595f55f3b879fcfb"
  },
  {
   "metadata": {
    "ExecuteTime": {
     "end_time": "2025-10-18T06:25:16.498232Z",
     "start_time": "2025-10-18T06:25:16.407623Z"
    }
   },
   "cell_type": "code",
   "source": [
    "model = keras.Sequential([\n",
    "    layers.Dense(512, activation=\"relu\"),\n",
    "    layers.Dense(10, activation=\"softmax\")\n",
    "])\n",
    "\n",
    "model.compile(optimizer=\"adam\",\n",
    "              loss=\"sparse_categorical_crossentropy\",\n",
    "              metrics=[\"accuracy\"])"
   ],
   "id": "2b54fa49ff674b25",
   "outputs": [],
   "execution_count": 4
  },
  {
   "metadata": {},
   "cell_type": "markdown",
   "source": "## <div style=\"text-align: center; color: lime\">Train the model</div>",
   "id": "928ee8c1c68a0f19"
  },
  {
   "metadata": {
    "ExecuteTime": {
     "end_time": "2025-10-18T06:26:06.239449Z",
     "start_time": "2025-10-18T06:25:50.874447Z"
    }
   },
   "cell_type": "code",
   "source": "model.fit(train_images, train_labels, epochs=5, batch_size=128)",
   "id": "6da1383f366a5077",
   "outputs": [
    {
     "name": "stdout",
     "output_type": "stream",
     "text": [
      "Epoch 1/5\n",
      "\u001B[1m469/469\u001B[0m \u001B[32m━━━━━━━━━━━━━━━━━━━━\u001B[0m\u001B[37m\u001B[0m \u001B[1m5s\u001B[0m 7ms/step - accuracy: 0.9258 - loss: 0.2647\n",
      "Epoch 2/5\n",
      "\u001B[1m469/469\u001B[0m \u001B[32m━━━━━━━━━━━━━━━━━━━━\u001B[0m\u001B[37m\u001B[0m \u001B[1m3s\u001B[0m 6ms/step - accuracy: 0.9684 - loss: 0.1082\n",
      "Epoch 3/5\n",
      "\u001B[1m469/469\u001B[0m \u001B[32m━━━━━━━━━━━━━━━━━━━━\u001B[0m\u001B[37m\u001B[0m \u001B[1m2s\u001B[0m 5ms/step - accuracy: 0.9793 - loss: 0.0704\n",
      "Epoch 4/5\n",
      "\u001B[1m469/469\u001B[0m \u001B[32m━━━━━━━━━━━━━━━━━━━━\u001B[0m\u001B[37m\u001B[0m \u001B[1m2s\u001B[0m 5ms/step - accuracy: 0.9851 - loss: 0.0505\n",
      "Epoch 5/5\n",
      "\u001B[1m469/469\u001B[0m \u001B[32m━━━━━━━━━━━━━━━━━━━━\u001B[0m\u001B[37m\u001B[0m \u001B[1m2s\u001B[0m 5ms/step - accuracy: 0.9892 - loss: 0.0373\n"
     ]
    },
    {
     "data": {
      "text/plain": [
       "<keras.src.callbacks.history.History at 0x12caf8320>"
      ]
     },
     "execution_count": 5,
     "metadata": {},
     "output_type": "execute_result"
    }
   ],
   "execution_count": 5
  },
  {
   "metadata": {},
   "cell_type": "markdown",
   "source": "## <div style=\"text-align: center; color: lime\">Test the model</div>",
   "id": "c2364274d433d53b"
  },
  {
   "metadata": {
    "ExecuteTime": {
     "end_time": "2025-10-18T06:26:12.694928Z",
     "start_time": "2025-10-18T06:26:11.514016Z"
    }
   },
   "cell_type": "code",
   "source": "test_loss, test_acc = model.evaluate(test_images, test_labels)\n",
   "id": "1d7febd820ceda88",
   "outputs": [
    {
     "name": "stdout",
     "output_type": "stream",
     "text": [
      "\u001B[1m313/313\u001B[0m \u001B[32m━━━━━━━━━━━━━━━━━━━━\u001B[0m\u001B[37m\u001B[0m \u001B[1m1s\u001B[0m 4ms/step - accuracy: 0.9788 - loss: 0.0660\n"
     ]
    }
   ],
   "execution_count": 6
  },
  {
   "metadata": {},
   "cell_type": "markdown",
   "source": [
    "<p style=\"text-align: center; font-family: \"Trebuchet MS\", sans-serif; color: #888; font-size: 0.9em; margin-top: 2em; border-top: 1px solid #ccc; padding-top: 0.5em;\">\n",
    "    @LiterallyTheOne — PhD Candidate in Artificial Intelligence\n",
    "</p>\n",
    "\n",
    "<div style=\"text-align: center\">\n",
    "<a style=\"margin: 1em\" href=\"https://literallytheone.github.io\">https://literallytheone.github.io</a>\n",
    "</div>\n"
   ],
   "id": "dbaea817c305037b"
  }
 ],
 "metadata": {
  "kernelspec": {
   "display_name": "Python 3",
   "language": "python",
   "name": "python3"
  },
  "language_info": {
   "codemirror_mode": {
    "name": "ipython",
    "version": 2
   },
   "file_extension": ".py",
   "mimetype": "text/x-python",
   "name": "python",
   "nbconvert_exporter": "python",
   "pygments_lexer": "ipython2",
   "version": "2.7.6"
  }
 },
 "nbformat": 4,
 "nbformat_minor": 5
}
